{
 "cells": [
  {
   "attachments": {},
   "cell_type": "markdown",
   "metadata": {},
   "source": [
    "# <center>Ma trận trong Python - Đồ án 1</center>"
   ]
  },
  {
   "attachments": {},
   "cell_type": "markdown",
   "metadata": {},
   "source": [
    "## Mục lục\n",
    "* [Thực hành](#c1)\n",
    "    * [Khai báo ma trận](#c11)\n",
    "    * [Các phép toán cơ bản trên ma trận](#c12)\n",
    "    * [Định thức](#c13)\n",
    "    * [Nghịch đảo ma trận](#c14)\n",
    "* [Đồ án 1 - Color Compression](#c2)\n",
    "    * [Nội dung đồ án](#c21)\n",
    "    * [Quy định nộp bài](#c22)\n",
    "    * [Quy định chấm bài](#c23)"
   ]
  },
  {
   "attachments": {},
   "cell_type": "markdown",
   "metadata": {},
   "source": [
    "## Thực hành <a class=\"anchor\" id=\"c1\"></a>"
   ]
  },
  {
   "attachments": {},
   "cell_type": "markdown",
   "metadata": {},
   "source": [
    "Trong bài lab này, chúng ta sẽ đồng thời sử dụng `list` và  `NumPy` để thực hiện các phép toán trên ma trận.\n",
    "\n",
    "Trong đó, sử dụng `list` để thực hiện các phép toán bằng code thủ công; sử dụng `NumPy` để gọi các hàm có sẵn trong thư viện."
   ]
  },
  {
   "cell_type": "code",
   "execution_count": 4,
   "metadata": {},
   "outputs": [],
   "source": [
    "import numpy as np\n",
    "\n",
    "# From lab 01\n",
    "def my_print(x, is_round=False, sep=' '):\n",
    "    if isinstance(x, list) and x:\n",
    "        if isinstance(x[0], list): # list of list\n",
    "            if is_round:\n",
    "                x = [[round(e, 2) for e in row] for row in x]\n",
    "\n",
    "            m, n = len(x), len(x[0])\n",
    "            widths = [max(len(str(ai[j])) for ai in x) for j in range(n)]\n",
    "            rows = [sep.join(format(str(ai[j]), f'>{widths[j]}') for j in range(n)) for ai in x]\n",
    "            print('[' + '\\n'.join((' [' if i > 0 else '[') + rows[i] + ']' for i in range(m)) + ']')\n",
    "        else: # list\n",
    "            if is_round:\n",
    "                x = [round(e, 2) for e in x]\n",
    "\n",
    "            print('[' + sep.join(str(e) for e in x) + ']')\n",
    "    else:\n",
    "        print(x)\n"
   ]
  },
  {
   "attachments": {},
   "cell_type": "markdown",
   "metadata": {},
   "source": [
    "### Khai báo ma trận <a class=\"anchor\" id=\"c11\"></a>"
   ]
  },
  {
   "attachments": {},
   "cell_type": "markdown",
   "metadata": {},
   "source": [
    "Trong Python, ma trận có thể biểu diễn bằng kiểu dữ liệu `list` (`list` of `list`) hoặc mảng NumPy 2 chiều (`np.array`). Giả sử với ma trận:\n",
    "$$A = \\begin{bmatrix}\n",
    "    1   & 1.5 & -1.2\\\\ \n",
    "    2   & 3.7 & 8\\\\ \n",
    "    3.5 & 2.5 & 4\n",
    "    \\end{bmatrix}$$\n",
    "\n",
    "Ta có thể biểu diễn bằng kiểu dữ liệu `list` như sau:"
   ]
  },
  {
   "cell_type": "code",
   "execution_count": null,
   "metadata": {},
   "outputs": [],
   "source": [
    "A_list = [[1,   1.5, -1.2],\n",
    "          [2,   3.7, 8   ],\n",
    "          [3.5, 2.5, 4   ]]\n",
    "\n",
    "print(f'- The number of rows: {len(A_list)}\\n- The number of columns: {len(A_list[0])}')\n",
    "my_print(A_list)\n"
   ]
  },
  {
   "attachments": {},
   "cell_type": "markdown",
   "metadata": {},
   "source": [
    "Và có thể biểu diễn trong NumPy như sau:"
   ]
  },
  {
   "cell_type": "code",
   "execution_count": null,
   "metadata": {},
   "outputs": [],
   "source": [
    "A_np = np.array(A_list)\n",
    "\n",
    "print(f'- The number of rows: {A_np.shape[0]}\\n- The number of cols: {A_np.shape[1]}')\n",
    "print(A_np)\n"
   ]
  },
  {
   "attachments": {},
   "cell_type": "markdown",
   "metadata": {},
   "source": [
    "#### Khởi tạo ma trận toàn 0"
   ]
  },
  {
   "attachments": {},
   "cell_type": "markdown",
   "metadata": {},
   "source": [
    "##### Trên `list` "
   ]
  },
  {
   "cell_type": "code",
   "execution_count": null,
   "metadata": {},
   "outputs": [],
   "source": [
    "def create_zero_matrix(n_row, n_col):\n",
    "    return [[0 for _ in range(n_col)] for _ in range(n_row)]\n",
    "    # return [[0] * n_col] * n_row      # Quick question: What's wrong with this approach?\n",
    "    # Are there ways to optimize the code?\n"
   ]
  },
  {
   "cell_type": "code",
   "execution_count": null,
   "metadata": {},
   "outputs": [],
   "source": [
    "my_print(create_zero_matrix(3, 3))\n"
   ]
  },
  {
   "attachments": {},
   "cell_type": "markdown",
   "metadata": {},
   "source": [
    "##### Trên `NumPy`"
   ]
  },
  {
   "cell_type": "code",
   "execution_count": null,
   "metadata": {},
   "outputs": [],
   "source": [
    "np.zeros((3, 3))\n"
   ]
  },
  {
   "attachments": {},
   "cell_type": "markdown",
   "metadata": {},
   "source": [
    "#### Khai báo ma trận toàn 1"
   ]
  },
  {
   "attachments": {},
   "cell_type": "markdown",
   "metadata": {},
   "source": [
    "##### Trên `list`"
   ]
  },
  {
   "cell_type": "code",
   "execution_count": null,
   "metadata": {},
   "outputs": [],
   "source": [
    "### TODO: YOUR CODE HERE\n"
   ]
  },
  {
   "attachments": {},
   "cell_type": "markdown",
   "metadata": {},
   "source": [
    "##### Trên `NumPy`"
   ]
  },
  {
   "cell_type": "code",
   "execution_count": null,
   "metadata": {},
   "outputs": [],
   "source": [
    "### TODO: YOUR CODE HERE\n"
   ]
  },
  {
   "attachments": {},
   "cell_type": "markdown",
   "metadata": {},
   "source": [
    "#### Khai báo ma trận đơn vị"
   ]
  },
  {
   "attachments": {},
   "cell_type": "markdown",
   "metadata": {},
   "source": [
    "##### Trên `list`"
   ]
  },
  {
   "cell_type": "code",
   "execution_count": null,
   "metadata": {},
   "outputs": [],
   "source": [
    "def create_identity_matrix(n):\n",
    "    return [[1 if i == j else 0 for j in range(n)] for i in range(n)]\n",
    "    # return [[int(i == j) for j in range(n)] for i in range(n)]\n"
   ]
  },
  {
   "cell_type": "code",
   "execution_count": null,
   "metadata": {
    "scrolled": true
   },
   "outputs": [],
   "source": [
    "my_print(create_identity_matrix(3))\n"
   ]
  },
  {
   "attachments": {},
   "cell_type": "markdown",
   "metadata": {},
   "source": [
    "##### Trên `NumPy`"
   ]
  },
  {
   "cell_type": "code",
   "execution_count": null,
   "metadata": {},
   "outputs": [],
   "source": [
    "### TODO: print(YOUR CODE HERE)\n"
   ]
  },
  {
   "attachments": {},
   "cell_type": "markdown",
   "metadata": {},
   "source": [
    "### Các phép toán cơ bản trên ma trận <a class=\"anchor\" id=\"c12\"></a>"
   ]
  },
  {
   "attachments": {},
   "cell_type": "markdown",
   "metadata": {},
   "source": [
    "#### Nhân số với ma trận"
   ]
  },
  {
   "cell_type": "code",
   "execution_count": null,
   "metadata": {},
   "outputs": [],
   "source": [
    "def multiply_scalar_matrix(scalar, A_list):\n",
    "    return [[scalar * a for a in a_row] for a_row in A_list]\n"
   ]
  },
  {
   "cell_type": "code",
   "execution_count": null,
   "metadata": {
    "scrolled": false
   },
   "outputs": [],
   "source": [
    "my_print(multiply_scalar_matrix(2, A_list))\n"
   ]
  },
  {
   "attachments": {},
   "cell_type": "markdown",
   "metadata": {},
   "source": [
    "#### Cộng ma trận"
   ]
  },
  {
   "attachments": {},
   "cell_type": "markdown",
   "metadata": {},
   "source": [
    "##### Cộng ma trận với ma trận"
   ]
  },
  {
   "attachments": {},
   "cell_type": "markdown",
   "metadata": {},
   "source": [
    "###### Thực hiện trên `A_list` (cách làm thủ công)"
   ]
  },
  {
   "cell_type": "code",
   "execution_count": null,
   "metadata": {},
   "outputs": [],
   "source": [
    "def add_matrix_list(A_list, B_list):\n",
    "#     # Method 1: Basic\n",
    "#     # Init\n",
    "#     C_list = [[0 for _ in range(len(A_list[0]))] for _ in range(len(A_list))]\n",
    "\n",
    "#     m_row = len(A_list)\n",
    "#     n_col = len(A_list[0])\n",
    "#     for i_row in range(m_row):\n",
    "#         for i_col in range(n_col):\n",
    "#             C_list[i_row][i_col] = A_list[i_row][i_col] + B_list[i_row][i_col]\n",
    "     \n",
    "    \n",
    "    # Method 2: List comprehension\n",
    "    # C_list = [[a + b for (a, b) in zip(a_row, b_row)] for (a_row, b_row) in zip(A_list, B_list)]   \n",
    "\n",
    "    # Method 3: Map\n",
    "    C_list = [list(map(sum, zip(*pair))) for pair in zip(A_list, B_list)] # Quick question: What does this code mean: zip(*pair)?\n",
    "    \n",
    "    return C_list\n"
   ]
  },
  {
   "cell_type": "code",
   "execution_count": null,
   "metadata": {
    "scrolled": true
   },
   "outputs": [],
   "source": [
    "# Init matrix\n",
    "B_list = [[2, 1.5, 1.2],\n",
    "          [3, 7, -9.5],\n",
    "          [5.5, 2, 4]]\n",
    "\n",
    "my_print(A_list)\n",
    "print()\n",
    "my_print(B_list)\n",
    "print()\n",
    "\n",
    "my_print(add_matrix_list(A_list, B_list))\n"
   ]
  },
  {
   "attachments": {},
   "cell_type": "markdown",
   "metadata": {},
   "source": [
    "###### Thực hiện trên `A_np` (sử dụng hàm của thư viện `NumPy`)"
   ]
  },
  {
   "cell_type": "code",
   "execution_count": null,
   "metadata": {},
   "outputs": [],
   "source": [
    "B_np = np.array(B_list)\n",
    "\n",
    "### TODO: print(YOUR CODE HERE)\n"
   ]
  },
  {
   "attachments": {},
   "cell_type": "markdown",
   "metadata": {},
   "source": [
    "##### Cộng ma trận với 1 số"
   ]
  },
  {
   "attachments": {},
   "cell_type": "markdown",
   "metadata": {},
   "source": [
    "###### Sử dụng `list` "
   ]
  },
  {
   "cell_type": "code",
   "execution_count": null,
   "metadata": {},
   "outputs": [],
   "source": [
    "### TODO: YOUR CODE HERE\n"
   ]
  },
  {
   "attachments": {},
   "cell_type": "markdown",
   "metadata": {},
   "source": [
    "###### Sử dụng `NumPy`"
   ]
  },
  {
   "cell_type": "code",
   "execution_count": null,
   "metadata": {},
   "outputs": [],
   "source": [
    "### TODO: YOUR CODE HERE\n"
   ]
  },
  {
   "attachments": {},
   "cell_type": "markdown",
   "metadata": {},
   "source": [
    "#### Trừ, nhân, chia các phần tử tương ứng của 2 ma trận"
   ]
  },
  {
   "attachments": {},
   "cell_type": "markdown",
   "metadata": {},
   "source": [
    "Tương tự với cộng 2 ma trận, các phép toán còn lại tương tự."
   ]
  },
  {
   "attachments": {},
   "cell_type": "markdown",
   "metadata": {},
   "source": [
    "##### Trên `A_list`"
   ]
  },
  {
   "cell_type": "code",
   "execution_count": null,
   "metadata": {},
   "outputs": [],
   "source": [
    "[list(map(lambda a, b: a / b, *pair)) for pair in zip(A_list, B_list)]\n"
   ]
  },
  {
   "cell_type": "code",
   "execution_count": null,
   "metadata": {},
   "outputs": [],
   "source": [
    "def op_matrix_list(A_list, B_list, op):\n",
    "    if op == '+':\n",
    "        return [list(map(lambda a, b: a + b, *pair)) for pair in zip(A_list, B_list)]\n",
    "    elif op == '-':\n",
    "        return [list(map(lambda a, b: a - b, *pair)) for pair in zip(A_list, B_list)]\n",
    "    elif op == '*': # element-wise\n",
    "        return [list(map(lambda a, b: a * b, *pair)) for pair in zip(A_list, B_list)]\n",
    "    elif op == '/': # element-wise\n",
    "        return [list(map(lambda a, b: a / b, *pair)) for pair in zip(A_list, B_list)]\n",
    "    else:\n",
    "        raise ValueError(f'Can\\'t understand operator {op}')\n"
   ]
  },
  {
   "cell_type": "code",
   "execution_count": null,
   "metadata": {},
   "outputs": [],
   "source": [
    "print('Subtraction of two matrices:')\n",
    "my_print(op_matrix_list(A_list, B_list, '-'))\n",
    "\n",
    "print('\\nElement-wise multiplication of two matrices:')\n",
    "my_print(op_matrix_list(A_list, B_list, '*'))\n",
    "\n",
    "print('\\nElement-wise division of two matrices:') \n",
    "my_print(op_matrix_list(A_list, B_list, '/'))\n"
   ]
  },
  {
   "attachments": {},
   "cell_type": "markdown",
   "metadata": {},
   "source": [
    "##### Trên `A_np`"
   ]
  },
  {
   "cell_type": "code",
   "execution_count": null,
   "metadata": {},
   "outputs": [],
   "source": [
    "print('Subtraction of two matrices: \\n', A_np - B_np)\n",
    "print('\\nElement-wise multiplication of two matrices: \\n', A_np * B_np)\n",
    "print('\\nElement-wise division of two matrices: \\n', A_np / B_np)\n"
   ]
  },
  {
   "attachments": {},
   "cell_type": "markdown",
   "metadata": {},
   "source": [
    "#### Nhân 2 ma trận"
   ]
  },
  {
   "attachments": {},
   "cell_type": "markdown",
   "metadata": {},
   "source": [
    "##### Trên `A_list`"
   ]
  },
  {
   "cell_type": "code",
   "execution_count": null,
   "metadata": {},
   "outputs": [],
   "source": [
    "def multiply_matrix(A_list, B_list):\n",
    "    if len(A_list[0]) != len(B_list):\n",
    "        print('The dimensions are not compatible')\n",
    "\n",
    "    # Method 1\n",
    "    # m_row = len(A_list)\n",
    "    # n_col = len(B_list[0])\n",
    "\n",
    "    # C_list = create_zero_matrix(m_row, n_col)\n",
    "\n",
    "    # for i_row in range(m_row):\n",
    "    #     for i_col in range(n_col):\n",
    "    #         total = 0\n",
    "    #         for i,a in enumerate(A_list[i_row]):  # Iterate over each item in the row i_row (A_list)\n",
    "    #             total += a*B_list[i][i_col]       # Iterate over each item in the col i_col (B_list)\n",
    "    #         C_list[i_row][i_col] = total\n",
    "\n",
    "    # return C_list\n",
    "\n",
    "    # Method 2\n",
    "    return [[sum(i * j for i, j in zip(row, col)) for col in zip(*B_list)] for row in A_list]\n",
    "\n",
    "    # Method 3: TODO: Map with lambda\n",
    "    # YOUR CODE HERE\n"
   ]
  },
  {
   "cell_type": "code",
   "execution_count": null,
   "metadata": {},
   "outputs": [],
   "source": [
    "multiply_matrix(A_list, B_list)\n"
   ]
  },
  {
   "attachments": {},
   "cell_type": "markdown",
   "metadata": {},
   "source": [
    "##### Trên `A_np`"
   ]
  },
  {
   "cell_type": "code",
   "execution_count": null,
   "metadata": {},
   "outputs": [],
   "source": [
    "np.matmul(A_np, B_np) # Quick question: What is the symbol used for matmul?\n"
   ]
  },
  {
   "attachments": {},
   "cell_type": "markdown",
   "metadata": {},
   "source": [
    "#### Chuyển vị ma trận"
   ]
  },
  {
   "cell_type": "code",
   "execution_count": null,
   "metadata": {},
   "outputs": [],
   "source": [
    "### YOUR CODE HERE\n"
   ]
  },
  {
   "attachments": {},
   "cell_type": "markdown",
   "metadata": {},
   "source": [
    "### Định thức <a class=\"anchor\" id=\"c13\"></a>"
   ]
  },
  {
   "cell_type": "code",
   "execution_count": null,
   "metadata": {},
   "outputs": [],
   "source": [
    "A_list = [[0, 1, 2],\n",
    "          [3, 5, 5],\n",
    "          [5, 7, 5]]\n",
    "\n",
    "A_np = np.array(A_list)\n"
   ]
  },
  {
   "attachments": {},
   "cell_type": "markdown",
   "metadata": {},
   "source": [
    "#### Trên `A_list`"
   ]
  },
  {
   "cell_type": "code",
   "execution_count": null,
   "metadata": {},
   "outputs": [],
   "source": [
    "def create_submatrix(A, i_row, i_col):\n",
    "    sub_A = [r[:] for r in A] # Deep copy A\n",
    "    \n",
    "    # Remove row\n",
    "    sub_A = sub_A[:i_row] + sub_A[i_row+1:]\n",
    "    \n",
    "    # Remove col\n",
    "    n_row_sub = len(sub_A)\n",
    "    for i in range(n_row_sub): \n",
    "        sub_A[i] = sub_A[i][:i_col] + sub_A[i][i_col+1:]\n",
    "        \n",
    "    return sub_A\n",
    "\n",
    "\n",
    "# For square matrix\n",
    "def calc_determinant(A):\n",
    "    # Basic case, determinant of matrix size 1x1\n",
    "    if len(A) == 1 and len(A[0]) == 1:\n",
    "        return A[0][0]\n",
    "    \n",
    "    total = 0\n",
    " \n",
    "    # Iterate over each column to remove\n",
    "    for i_col in range(len(A[0])):\n",
    "        sub_A = create_submatrix(A, 0, i_col)\n",
    " \n",
    "        # Find sign\n",
    "        sign = (-1) ** (i_col % 2)\n",
    "        \n",
    "        # Use recursion for submatrix\n",
    "        sub_det = calc_determinant(sub_A)\n",
    "        \n",
    "        # Incrementally update the output\n",
    "        total += sign * A[0][i_col] * sub_det \n",
    " \n",
    "    return total\n"
   ]
  },
  {
   "cell_type": "code",
   "execution_count": null,
   "metadata": {},
   "outputs": [],
   "source": [
    "calc_determinant(A_list)\n"
   ]
  },
  {
   "attachments": {},
   "cell_type": "markdown",
   "metadata": {},
   "source": [
    "#### Trên `A_np` "
   ]
  },
  {
   "cell_type": "code",
   "execution_count": null,
   "metadata": {},
   "outputs": [],
   "source": [
    "np.linalg.det(A_np)\n"
   ]
  },
  {
   "attachments": {},
   "cell_type": "markdown",
   "metadata": {},
   "source": [
    "### Nghịch đảo ma trận <a class=\"anchor\" id=\"c14\"></a>"
   ]
  },
  {
   "attachments": {},
   "cell_type": "markdown",
   "metadata": {},
   "source": [
    "#### Trên `A_list` "
   ]
  },
  {
   "attachments": {},
   "cell_type": "markdown",
   "metadata": {},
   "source": [
    "##### Cách 1: Sử dụng phép khử Gauss-Jordan"
   ]
  },
  {
   "cell_type": "code",
   "execution_count": null,
   "metadata": {},
   "outputs": [],
   "source": [
    "import math\n",
    "\n",
    "# From lab 01\n",
    "def is_zero(x):\n",
    "    return math.isclose(x, 0, abs_tol=1e-10)\n",
    "\n",
    "def row_switch(A, i, k):\n",
    "    'di <-> dk'\n",
    "    A[i], A[k] = A[k], A[i]\n",
    "\n",
    "def row_mul(A, i, alpha):\n",
    "    'di = alpha*di'\n",
    "    A[i] = [alpha*Aii for Aii in A[i]]\n",
    "\n",
    "def row_add(A, i, k, alpha):\n",
    "    'di = di + alpha*dk'\n",
    "    A[i] = [0 if is_zero(Aii + alpha*Aki) else Aii + alpha*Aki for Aii, Aki in zip(A[i], A[k])]\n",
    "\n",
    "def create_augmented_matrix(A):\n",
    "    I = create_identity_matrix(len(A))\n",
    "    return [Ai[:] + Ii for Ai, Ii in zip(A, I)]\n",
    "\n",
    "# Gauss-Jordan elimination\n",
    "def Gauss_Jordan(A):\n",
    "    # Append unique matrix to A matrix\n",
    "    augmented_A = create_augmented_matrix(A)\n",
    "\n",
    "    n_row = len(A)\n",
    "    n_col_A = len(A[0])\n",
    "\n",
    "    row = col = 0\n",
    "\n",
    "    while row < n_row:\n",
    "        # Step 1: Identify the leftmost column that contains only zeros\n",
    "        while col < n_col_A and all(is_zero(augmented_A[i][col]) for i in range(row, n_row)):\n",
    "            col += 1\n",
    "        if col == n_col_A:\n",
    "            break\n",
    "        \n",
    "        # Step 2: Select the first row that contains non-zero coefficient\n",
    "        pivot_row = row + [not is_zero(augmented_A[i][col]) for i in range(row, n_row)].index(True)\n",
    "        row_switch(augmented_A, row, pivot_row)\n",
    "\n",
    "        # Step 3: Leading 1 option\n",
    "        row_mul(augmented_A, row, 1/augmented_A[row][col])\n",
    "\n",
    "        # Step 4: Add an appropriate multiple of the current row to the other rows, so that the coefficients in the column col become 0\n",
    "        for i in range(n_row):\n",
    "            if i == row:\n",
    "                continue\n",
    "            \n",
    "            multiplier = augmented_A[i][col]/augmented_A[row][col]\n",
    "            row_add(augmented_A, i, row, -multiplier)\n",
    "\n",
    "        row += 1\n",
    "\n",
    "    return augmented_A\n",
    "\n",
    "# Invert matrix using Gauss-Jordan\n",
    "def invert_matrix_GJ(A):\n",
    "    n_col_A = len(A[0])\n",
    "    GJ_A = Gauss_Jordan(A)\n",
    "\n",
    "    # Separate the left and right matrices from the output matrix after using Gauss-Jordan elimination\n",
    "    lmatrix = [GJ_Ai[:n_col_A] for GJ_Ai in GJ_A]\n",
    "    rmatrix = [GJ_Ai[n_col_A:] for GJ_Ai in GJ_A]\n",
    "\n",
    "    # Determine whether the matrix is invertible\n",
    "    if lmatrix[-1][-1] == 0:\n",
    "        print('Singular matrix')\n",
    "        return None\n",
    "\n",
    "    return rmatrix\n"
   ]
  },
  {
   "cell_type": "code",
   "execution_count": null,
   "metadata": {},
   "outputs": [],
   "source": [
    "my_print(invert_matrix_GJ(A_list), is_round=True)\n"
   ]
  },
  {
   "attachments": {},
   "cell_type": "markdown",
   "metadata": {},
   "source": [
    "##### Cách 2: Sử dụng công thức $A^{-1} = \\dfrac{adj(A)}{det(A)}$"
   ]
  },
  {
   "cell_type": "code",
   "execution_count": null,
   "metadata": {},
   "outputs": [],
   "source": [
    "def transpose(A):\n",
    "    return list(map(list, zip(*A)))\n",
    "\n",
    "\n",
    "# For square matrix\n",
    "def invert_matrix(A):\n",
    "    n_row = len(A)\n",
    "    n_col = len(A[0])\n",
    "    \n",
    "    # If the matrix is not square\n",
    "    if n_row != n_col:\n",
    "        print('Error: Not a square matrix')\n",
    "        return None\n",
    "    \n",
    "    # Calc determinant for the matrix\n",
    "    det_A = calc_determinant(A)\n",
    "    \n",
    "    # Return None if the matrix is singular\n",
    "    if det_A == 0:\n",
    "        print('Error: Singular matrix')\n",
    "        return None\n",
    "    \n",
    "    # Basic case, matrix size 1x1\n",
    "    if n_row == 1 and n_col == 1:\n",
    "        return 1/det_A\n",
    "    \n",
    "    # Create the output matrix\n",
    "    A_res = [[0 for _ in range(n_col)] for _ in range(n_row)]\n",
    "    \n",
    "    # A_res = adj(A)/det_A -----------------------------------------------------------------\n",
    "    # Step 1: Transpose the original matrix\n",
    "    A_trans = transpose(A)\n",
    "    \n",
    "    # Step 2: Calc the adj(A) along with assign result into A_res\n",
    "    for i_row in range(n_row):\n",
    "        for i_col in range(n_col):\n",
    "            # Create submatrix\n",
    "            sub_A = create_submatrix(A_trans, i_row, i_col)\n",
    " \n",
    "            # Find sign\n",
    "            sign = (-1) ** (i_row + i_col)\n",
    "            \n",
    "            A_res[i_row][i_col] = sign * calc_determinant(sub_A)\n",
    " \n",
    "    # Step 3: Divide by determinant\n",
    "    A_res = multiply_scalar_matrix(1/det_A, A_res)\n",
    "    \n",
    "    return A_res\n"
   ]
  },
  {
   "attachments": {},
   "cell_type": "markdown",
   "metadata": {},
   "source": [
    "**Tham khảo:**\n",
    "- [Invertible matrix](https://en.wikipedia.org/wiki/Invertible_matrix)\n",
    "- [Ma trận khả nghịch](https://vi.wikipedia.org/wiki/Ma_tr%E1%BA%ADn_kh%E1%BA%A3_ngh%E1%BB%8Bch)\n",
    "- [Adjugate matrix](https://en.wikipedia.org/wiki/Adjugate_matrix)"
   ]
  },
  {
   "cell_type": "code",
   "execution_count": null,
   "metadata": {},
   "outputs": [],
   "source": [
    "my_print(invert_matrix(A_list))\n"
   ]
  },
  {
   "attachments": {},
   "cell_type": "markdown",
   "metadata": {},
   "source": [
    "#### Trên `A_np` "
   ]
  },
  {
   "cell_type": "code",
   "execution_count": null,
   "metadata": {},
   "outputs": [],
   "source": [
    "print(np.linalg.inv(A_np))\n"
   ]
  },
  {
   "attachments": {},
   "cell_type": "markdown",
   "metadata": {},
   "source": [
    "---"
   ]
  },
  {
   "attachments": {},
   "cell_type": "markdown",
   "metadata": {},
   "source": [
    "## Đồ án 1 - Color Compression <a class=\"anchor\" id=\"c2\"></a>"
   ]
  },
  {
   "attachments": {},
   "cell_type": "markdown",
   "metadata": {},
   "source": [
    "### Nội dung đồ án <a class=\"anchor\" id=\"c21\"></a>"
   ]
  },
  {
   "attachments": {},
   "cell_type": "markdown",
   "metadata": {},
   "source": [
    "#### Giới thiệu"
   ]
  },
  {
   "attachments": {},
   "cell_type": "markdown",
   "metadata": {},
   "source": [
    "Một bức ảnh có thể lưu trữ dưới ma trận của các điểm ảnh. Có nhiều loại ảnh được sử dụng trong thực tế, ví dụ: ảnh xám, ảnh màu,... \n",
    "\n",
    "Đối với ảnh xám, một điểm ảnh sẽ là được biểu diễn bằng giá trị không âm. \n",
    "\n",
    "Ví dụ ta có thể dùng ma trận này:\n",
    "$$\\begin{bmatrix}\n",
    "255 & 0 & 0  & 0  & 255 \\\\ \n",
    "255 & 0 & 255 & 0 & 255\\\\ \n",
    "255 & 0 & 255 & 0 & 255\\\\ \n",
    "255 & 0 & 255 & 0 & 255\\\\ \n",
    "255 & 0 & 0  & 0  & 255\n",
    "\\end{bmatrix}$$\n",
    "\n",
    "có thể biểu diễn cho ảnh xám có nội dung như sau:"
   ]
  },
  {
   "cell_type": "code",
   "execution_count": 5,
   "metadata": {
    "scrolled": true
   },
   "outputs": [
    {
     "data": {
      "image/png": "[encoded data removed]",
      "text/plain": [
       "<Figure size 640x480 with 1 Axes>"
      ]
     },
     "metadata": {},
     "output_type": "display_data"
    }
   ],
   "source": [
    "import matplotlib.pyplot as plt\n",
    "plt.imshow(np.array([[255, 0, 0, 0, 255], \n",
    "                     [255, 0, 255, 0, 255], \n",
    "                     [255, 0, 255, 0, 255], \n",
    "                     [255, 0, 255, 0, 255], \n",
    "                     [255, 0, 0, 0, 255]]), cmap='gray', vmin=0, vmax=255);\n"
   ]
  },
  {
   "attachments": {},
   "cell_type": "markdown",
   "metadata": {},
   "source": [
    "Ảnh màu được sử dụng phổ biến là ảnh RGB, trong đó, mỗi điểm ảnh sẽ lưu trữ 3 thông tin kênh màu (mỗi kênh màu 1 byte) là: R (red - đỏ), G (green - xanh lá), B (blue - xanh dương). Ta có thể sử dụng ma trận:\n",
    "```\n",
    "                    [[[255, 255, 255], [255, 0, 0], [255, 0, 0], [255, 0, 0], [255, 255, 255]],\n",
    "                     [[255, 255, 255], [255, 0, 0], [255, 255, 255], [255, 0, 0], [255, 255, 255]],\n",
    "                     [[255, 255, 255], [255, 0, 0], [255, 255, 255], [255, 0, 0], [255, 255, 255]],\n",
    "                     [[255, 255, 255], [255, 0, 0], [255, 255, 255], [255, 0, 0], [255, 255, 255]],\n",
    "                     [[255, 255, 255], [255, 0, 0], [255, 0, 0], [255, 0, 0], [255, 255, 255]]]\n",
    "```\n",
    "để biểu diễn cho ảnh màu có nội dung sau:"
   ]
  },
  {
   "cell_type": "code",
   "execution_count": 6,
   "metadata": {
    "scrolled": true
   },
   "outputs": [
    {
     "data": {
      "image/png": "[encoded data removed]",
      "text/plain": [
       "<Figure size 640x480 with 1 Axes>"
      ]
     },
     "metadata": {},
     "output_type": "display_data"
    }
   ],
   "source": [
    "plt.imshow(np.array([[[255, 255, 255], [255, 0, 0], [255, 0, 0], [255, 0, 0], [255, 255, 255]],\n",
    "                     [[255, 255, 255], [255, 0, 0], [255, 255, 255], [255, 0, 0], [255, 255, 255]],\n",
    "                     [[255, 255, 255], [255, 0, 0], [255, 255, 255], [255, 0, 0], [255, 255, 255]],\n",
    "                     [[255, 255, 255], [255, 0, 0], [255, 255, 255], [255, 0, 0], [255, 255, 255]],\n",
    "                     [[255, 255, 255], [255, 0, 0], [255, 0, 0], [255, 0, 0], [255, 255, 255]]]));\n"
   ]
  },
  {
   "attachments": {},
   "cell_type": "markdown",
   "metadata": {},
   "source": [
    "Như vậy, số màu trong ảnh RGB có thể là $256^3 \\approx 1.7 \\times 10^7$. Với số lượng màu khá lớn, khi lưu trữ ảnh có thể sẽ tốn chi phí lưu trữ. Do đó bài toán đặt ra là giảm số lượng màu để biểu diễn ảnh sao cho nội dung ảnh được bảo toàn nhất có thể.\n",
    "\n",
    "Cho ảnh như sau:\n",
    "\n",
    "![img](https://imgur.com/8aG74W6.jpg)\n",
    "\n",
    "Trong ví dụ trên, số lượng màu cho ảnh ban đầu là 145856 màu. Sau khi giảm số lượng màu xuống còn 7, ảnh không còn được chi tiết nhưng cơ bản vẫn bảo toàn nội dung của ảnh ban đầu.\n",
    "\n",
    "Nguồn ảnh: Photo by Smileus on Getty Images·\n",
    "\n",
    "Để thực hiện giảm số lượng màu, ta cần tìm ra các đại diện có thể thay thế cho một nhóm màu. Cụ thể trong trường hợp ảnh RGB, ta cần thực hiện gom nhóm các pixel $(\\mathbb{R}^3)$ và chọn ra đại diện cho từng nhóm. Như vậy, bài toán trên trở thành gom nhóm các vec-tơ."
   ]
  },
  {
   "attachments": {},
   "cell_type": "markdown",
   "metadata": {},
   "source": [
    "#### Yêu cầu"
   ]
  },
  {
   "attachments": {},
   "cell_type": "markdown",
   "metadata": {},
   "source": [
    "Trong đồ án này, bạn được yêu cầu cài đặt chương trình giảm số lượng màu cho ảnh sử dụng thuật toán [K-Means](https://en.wikipedia.org/wiki/K-means_clustering).\n",
    "\n",
    "Cụ thể:\n",
    "- Sử dụng ngôn ngữ lập trình Python\n",
    "- Cài đặt các hàm yêu cầu trong tập tin Jupyter Notebook `MSSV.ipynb` được đính kèm:\n",
    "    - Đọc ảnh\n",
    "    - Hiển thị ảnh\n",
    "    - Lưu ảnh\n",
    "    - Chuyển đổi ảnh từ kích thước 2D (height, width, channels) sang 1D (height $\\times$ width, channels)\n",
    "    - Gom nhóm màu sử dụng K-Means\n",
    "    - Tạo ảnh mới từ các màu trung tâm (từ K-Means)\n",
    "    - Hàm main: \n",
    "        - Cho phép nhập vào tên tập tin ảnh mỗi lần chương trình thực thi (gợi ý sử dụng `input()` trong Python)\n",
    "        - Cho phép lưu ảnh với tối thiểu 2 định dạng là pdf và png\n",
    "- Các thư viện được phép sử dụng:\n",
    "    - `NumPy` (tính toán ma trận)\n",
    "    - `PIL` (đọc, ghi ảnh)\n",
    "    - `matplotlib` (hiển thị ảnh)\n",
    "\n",
    "<font style=\"color:red\">*Lưu ý: Không sử dụng K-Means đã được cài đặt sẵn trong các thư viện trong bài nộp. Sinh viên có thể sử dụng K-Means trong `scikit-learn` ĐỂ KIỂM TRA (và xóa đi trước khi nộp bài).* </font>\n"
   ]
  },
  {
   "attachments": {},
   "cell_type": "markdown",
   "metadata": {},
   "source": [
    "### Quy định bài nộp <a class=\"anchor\" id=\"c22\"></a>"
   ]
  },
  {
   "attachments": {},
   "cell_type": "markdown",
   "metadata": {},
   "source": [
    "- Thực hiện toàn bộ bài làm trên 1 tập tin Jupyter Notebook (.ipynb)\n",
    "\n",
    "\n",
    "- Bạn nộp tập tin `MSSV.zip` được nén từ thư mục MSSV chứa các tập tin sau:\n",
    "    1. Báo cáo toàn bộ bài làm: `MSSV.pdf`\n",
    "    2. Mã nguồn: `MSSV.ipynb`\n",
    "\n",
    "\n",
    "- Trong đó, nội dung tập tin báo cáo gồm có:\n",
    "    - Thông tin cá nhân: Họ và tên, MSSV, lớp\n",
    "    - Ý tưởng thực hiện, mô tả các hàm\n",
    "    - Hình ảnh kết quả với từng số lượng màu, `k = {3, 5, 7}`. Sinh viên có thể thử nghiệm thêm `k` khác\n",
    "    - **Nhận xét kết quả trên**\n",
    "    - Báo cáo cần có số trang và tài liệu tham khảo\n",
    "    \n",
    "- Tập tin `MSSV.zip` không vượt quá 20MB. Ví dụ minh họa cây thư mục bài nộp sau khi giải nén tập tin `MSSV.zip` như sau:\n",
    "    ```\n",
    "    MSSV\n",
    "    ├── MSSV.pdf\n",
    "    └── MSSV.ipynb\n",
    "    ```\n",
    "\n",
    "- Ví dụ minh họa cho báo cáo có cấu trúc rõ ràng (có thể dùng cho những đồ án sau):\n",
    "    ```.pdf\n",
    "    Trang bìa: tên môn, tên đồ án, thông tin cá nhân\n",
    "    Trang mục lục\n",
    "    Phần I. Ý tưởng thực hiện: tổng quan về đồ án, input output, mục tiêu, ý tưởng giải quyết\n",
    "    Phần II. Chi tiết thực hiện:  cấu trúc chương trình (gồm hàm nào, để làm gì), mô tả các hàm chính là cốt lõi/ hoặc các cải tiến của mình (KHÔNG copy code)\n",
    "        Hàm ABCD[1][3] ...\n",
    "    Phần III. Kết quả và kết luận: phân tích các kết quả đạt được, nhận xét/kết luận về kết quả đạt được\n",
    "    Phần IV. Tài liệu tham khảo:\n",
    "    1. Tên tác giả, Tên sách, Chương tham khảo, Nhà xuất bản, năm xuất bản\n",
    "    2. Tên tác giả, Tên bài báo, Tên hội nghị/tạp chí, năm xuất bản\n",
    "    3. Tên tác giả, Tên bài viết, URL, ngày truy cập thông tin tham khảo\n",
    "    4. Tên tác giả, Tên slide/lecture note [PP Slide/Lecture note], URL \n",
    "    Phần V. Acknowledgement:\n",
    "        Đồ án có sự giúp đỡ của bạn/anh/chị/em/chú/bác ... ABCD trong phần code hàm XYZ , ... Ngoài ra, đồ án có sự hỗ trợ cùa ChatGPT/Gemini/Deepseek,... trong phần viết báo cáo mục I, viết code hàm XYZ, ... \n",
    "    ```"
   ]
  },
  {
   "attachments": {},
   "cell_type": "markdown",
   "metadata": {},
   "source": [
    "### Quy định chấm bài <a class=\"anchor\" id=\"c23\"></a>"
   ]
  },
  {
   "attachments": {},
   "cell_type": "markdown",
   "metadata": {},
   "source": [
    "Đồ án chiếm **10%** tổng điểm môn học.\n",
    "\n",
    "Những trường hợp sau đây sẽ bị 0 điểm toàn bộ đồ án:\n",
    "- Nộp sai quy định\n",
    "- Không nộp báo cáo/mã nguồn\n",
    "- Thực thi mã nguồn báo lỗi\n",
    "- Không có phần tài liệu tham khảo và trích dẫn [] cần thiết\n",
    "\n",
    "<font style=\"color:red\">**LƯU Ý: \n",
    "- Các bài làm giống nhau (báo cáo hoặc mã nguồn) sẽ nhận 0 điểm toàn bộ phần thực hành\n",
    "- Những trường hợp lạm dụng các công cụ AI hỗ trợ mà KHÔNG hiểu bài sẽ bị xem xét như cheating và 0 điểm phần thực hành. Việc kiểm tra hiểu bài sẽ được thực hiện ngẫu nhiên qua việc lên bảng sửa bài hoặc vấn đáp\n",
    "</font>"
   ]
  }
 ],
 "metadata": {
  "kernelspec": {
   "display_name": "Python 3",
   "language": "python",
   "name": "python3"
  },
  "language_info": {
   "codemirror_mode": {
    "name": "ipython",
    "version": 3
   },
   "file_extension": ".py",
   "mimetype": "text/x-python",
   "name": "python",
   "nbconvert_exporter": "python",
   "pygments_lexer": "ipython3",
   "version": "3.13.3"
  }
 },
 "nbformat": 4,
 "nbformat_minor": 4
}
